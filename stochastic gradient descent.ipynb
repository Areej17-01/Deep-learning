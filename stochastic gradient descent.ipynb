{
 "cells": [
  {
   "cell_type": "code",
   "execution_count": 1,
   "id": "41397015",
   "metadata": {},
   "outputs": [],
   "source": [
    "import numpy as np\n",
    "import tensorflow as tf\n",
    "from tensorflow import keras\n",
    "import pandas as pd\n",
    "from matplotlib import pyplot as plt\n",
    "%matplotlib inline"
   ]
  },
  {
   "cell_type": "code",
   "execution_count": 2,
   "id": "f6595c75",
   "metadata": {},
   "outputs": [
    {
     "data": {
      "text/plain": [
       "(   age  affordibility  bought_insurance\n",
       " 0   22              1                 0\n",
       " 1   25              0                 0\n",
       " 2   47              1                 1\n",
       " 3   52              0                 0\n",
       " 4   46              1                 1,\n",
       " (28, 3))"
      ]
     },
     "execution_count": 2,
     "metadata": {},
     "output_type": "execute_result"
    }
   ],
   "source": [
    "df = pd.read_csv(\"insurance_data.csv\")\n",
    "df.head(),df.shape"
   ]
  },
  {
   "cell_type": "code",
   "execution_count": 3,
   "id": "db6d1c88",
   "metadata": {},
   "outputs": [],
   "source": [
    "from sklearn.model_selection import train_test_split\n",
    "X_train, X_test, y_train, y_test = train_test_split(df[['age','affordibility']],df.bought_insurance,test_size=0.2, random_state=25)\n",
    "\n",
    "X_train_scaled = X_train.copy()\n",
    "X_train_scaled['age'] = X_train_scaled['age'] / 100\n",
    "\n",
    "X_test_scaled = X_test.copy()\n",
    "X_test_scaled['age'] = X_test_scaled['age'] / 100"
   ]
  },
  {
   "cell_type": "code",
   "execution_count": 4,
   "id": "2d84dd30",
   "metadata": {},
   "outputs": [],
   "source": [
    "def sigmoid_numpy(X):\n",
    "    return 1/(1+np.exp(-X))\n",
    "\n"
   ]
  },
  {
   "cell_type": "code",
   "execution_count": 5,
   "id": "11661f28",
   "metadata": {},
   "outputs": [
    {
     "name": "stdout",
     "output_type": "stream",
     "text": [
      "[17 13 10  6 10 14  9  5 12 10 15  2  6  8  5  0  4 20  4 12]\n"
     ]
    }
   ],
   "source": [
    "import numpy as np\n",
    "\n",
    "# Generate an array of 20 random integers between 0 and 9 (inclusive)\n",
    "random_integers = np.random.randint(0,len(X_train_scaled), 20)\n",
    "\n",
    "print(random_integers)\n"
   ]
  },
  {
   "cell_type": "code",
   "execution_count": 6,
   "id": "1fa25ece",
   "metadata": {},
   "outputs": [],
   "source": [
    "#X_train_scaled['affordibility'].iloc[random_integers].head()"
   ]
  },
  {
   "cell_type": "code",
   "execution_count": 7,
   "id": "cf510eb2",
   "metadata": {},
   "outputs": [],
   "source": [
    "def log_loss(y_true, y_predicted):\n",
    "    epsilon = 1e-15\n",
    "    y_predicted_new = [max(i,epsilon) for i in y_predicted]\n",
    "    y_predicted_new = [min(i,1-epsilon) for i in y_predicted_new]\n",
    "    y_predicted_new = np.array(y_predicted_new)\n",
    "    return -np.mean(y_true*np.log(y_predicted_new)+(1-y_true)*np.log(1-y_predicted_new))"
   ]
  },
  {
   "cell_type": "code",
   "execution_count": 49,
   "id": "a7cd70a7",
   "metadata": {},
   "outputs": [
    {
     "data": {
      "text/plain": [
       "6"
      ]
     },
     "execution_count": 49,
     "metadata": {},
     "output_type": "execute_result"
    }
   ],
   "source": [
    "import random\n",
    "random.randint(0,6)"
   ]
  },
  {
   "cell_type": "code",
   "execution_count": 83,
   "id": "55d4160b",
   "metadata": {},
   "outputs": [],
   "source": [
    "#takes 1 as sample size\n",
    "def gradient_descent(r_age, r_affordability, r_y_true, epochs, loss_thresold,sample_size):\n",
    "    w1 = w2 = 1\n",
    "    bias = 0\n",
    "    rate = 0.5\n",
    "    n = len(r_age)\n",
    "    cost_list = []\n",
    "    epoch_list = []\n",
    "    \n",
    "    for i in range(epochs):\n",
    "       \n",
    "        random_integers = [random.randint(0,len(r_age)-1)]\n",
    "        print(random_integers,len(r_age))\n",
    "        age=r_age.iloc[random_integers]\n",
    "        affordability=r_affordability.iloc[random_integers]\n",
    "        y_true=r_y_true.iloc[random_integers]\n",
    "    \n",
    "    \n",
    "        \n",
    "        weighted_sum = w1 * age + w2 * affordability + bias\n",
    "        y_predicted = sigmoid_numpy(weighted_sum)\n",
    "        loss = log_loss(y_true, y_predicted)\n",
    "\n",
    "        w1d = (1/n)*np.dot(np.transpose(age),(y_predicted-y_true)) \n",
    "        w2d = (1/n)*np.dot(np.transpose(affordability),(y_predicted-y_true)) \n",
    "\n",
    "        bias_d = np.mean(y_predicted-y_true)\n",
    "        w1 = w1 - rate * w1d\n",
    "        w2 = w2 - rate * w2d\n",
    "        bias = bias - rate * bias_d\n",
    "\n",
    "        print (f'Epoch:{i}, w1:{w1}, w2:{w2}, bias:{bias}, loss:{loss}')\n",
    "        if i%1==0: # at every nth iteration record the cost and epoch value (increase n when data is big)\n",
    "            cost_list.append(loss)\n",
    "            epoch_list.append(i)\n",
    "\n",
    "        if loss<=loss_thresold:\n",
    "            break\n",
    "\n",
    "    return w1, w2, bias,epoch_list,cost_list"
   ]
  },
  {
   "cell_type": "code",
   "execution_count": 84,
   "id": "567dd53b",
   "metadata": {},
   "outputs": [],
   "source": [
    "#gradient_descent(X_train_scaled['age'],X_train_scaled['affordibility'],y_train,1000, 0.1,5)"
   ]
  },
  {
   "cell_type": "code",
   "execution_count": 87,
   "id": "fde47705",
   "metadata": {},
   "outputs": [
    {
     "name": "stdout",
     "output_type": "stream",
     "text": [
      "[13] 22\n",
      "Epoch:0, w1:0.991515794763599, w2:0.9815560755730414, bias:-0.40576633739309026, loss:1.6688306281601115\n",
      "[3] 22\n",
      "Epoch:1, w1:0.9946837865431523, w2:0.9870181303653747, bias:-0.2856011319617575, loss:0.2748716913685207\n",
      "[1] 22\n",
      "Epoch:2, w1:0.9913836241703358, w2:0.9870181303653747, bias:-0.535958277485767, loss:0.6945767840522674\n",
      "[20] 22\n",
      "Epoch:3, w1:0.9879151567134317, w2:0.9719378370744873, bias:-0.8677247298852876, loss:1.0892549201141486\n",
      "[11] 22\n",
      "Epoch:4, w1:0.9859287259300552, w2:0.9719378370744873, bias:-1.0425306388224198, loss:0.43018589107699884\n",
      "[8] 22\n",
      "Epoch:5, w1:0.9833798021232493, w2:0.9598001046611254, bias:-1.3095607519163808, loss:0.7636988939554099\n",
      "[14] 22\n",
      "Epoch:6, w1:0.9895146982972703, w2:0.9696950984901916, bias:-1.0918708876769232, loss:0.5716018595899939\n",
      "[21] 22\n",
      "Epoch:7, w1:0.9938795820528096, w2:0.9791839762196246, bias:-0.8831155776293973, loss:0.5404443256313206\n",
      "[6] 22\n",
      "Epoch:8, w1:0.9981367974274782, w2:0.9870677083949368, bias:-0.7096734697725284, loss:0.4260008541122241\n",
      "[13] 22\n",
      "Epoch:9, w1:0.9910670347826617, w2:0.971698659167075, bias:-1.0477925527854903, loss:1.1277471138207478\n",
      "[21] 22\n",
      "Epoch:10, w1:0.9953134189097699, w2:0.9809299290086145, bias:-0.8447046162716214, loss:0.5211720859988598\n",
      "[6] 22\n",
      "Epoch:11, w1:0.9994575514827944, w2:0.9886042485882895, bias:-0.6758695855187704, loss:0.411991450686355\n",
      "[19] 22\n",
      "Epoch:12, w1:1.0031679337426893, w2:0.995350398151735, bias:-0.5274542951229699, loss:0.3521574215994655\n",
      "[7] 22\n",
      "Epoch:13, w1:1.0063993414469865, w2:0.995350398151735, bias:-0.24309041714481872, loss:0.8410157315756075\n",
      "[16] 22\n",
      "Epoch:14, w1:1.0032872302482334, w2:0.995350398151735, bias:-0.49666984815432613, loss:0.7075683922010949\n",
      "[12] 22\n",
      "Epoch:15, w1:1.006560809868315, w2:1.0011960760447378, bias:-0.3680649345082657, loss:0.2973416796558874\n",
      "[13] 22\n",
      "Epoch:16, w1:0.9987247321320938, w2:0.9841611244442571, bias:-0.742833869718843, loss:1.3844475492119301\n",
      "[9] 22\n",
      "Epoch:17, w1:0.9934732382734568, w2:0.9841611244442571, bias:-0.9650124560457918, loss:0.5876295880163543\n",
      "[20] 22\n",
      "Epoch:18, w1:0.9905376155568378, w2:0.9713975474154791, bias:-1.2458111506789074, loss:0.8246175882251672\n",
      "[7] 22\n",
      "Epoch:19, w1:0.9946893198426915, w2:0.9713975474154791, bias:-0.8804611735237858, loss:1.3119291095034138\n",
      "[9] 22\n",
      "Epoch:20, w1:0.9898417420541094, w2:0.9713975474154791, bias:-1.0855510030407225, loss:0.5279372952910658\n",
      "[8] 22\n",
      "Epoch:21, w1:0.9873436431612228, w2:0.9595018384017334, bias:-1.3472566013431275, loss:0.7411012072598601\n",
      "[4] 22\n",
      "Epoch:22, w1:0.9927248415957025, w2:0.9702642352706928, bias:-1.1104838702260196, loss:0.6415902991595137\n",
      "[4] 22\n",
      "Epoch:23, w1:0.9974054507815733, w2:0.9796254536424345, bias:-0.9045370660477046, loss:0.5308474092818496\n",
      "[18] 22\n",
      "Epoch:24, w1:1.0008932505786912, w2:0.9883449531352293, bias:-0.7127080772062175, loss:0.4839532384982028\n",
      "[12] 22\n",
      "Epoch:25, w1:1.0047413284978977, w2:0.995216520848098, bias:-0.5615335875231058, loss:0.3600362716853749\n",
      "[4] 22\n",
      "Epoch:26, w1:1.0079424442514016, w2:1.001618752355106, bias:-0.4206844943689333, loss:0.3308654449266279\n",
      "[21] 22\n",
      "Epoch:27, w1:1.0106634043516314, w2:1.0075338830077794, bias:-0.29055162001011897, loss:0.30146427717159857\n",
      "[4] 22\n",
      "Epoch:28, w1:1.0132489667614601, w2:1.0127050078274369, bias:-0.17678687397765225, loss:0.25816144836934773\n",
      "[10] 22\n",
      "Epoch:29, w1:1.0186196318075134, w2:1.0127050078274369, bias:0.020137511044301837, loss:0.5006257696633483\n",
      "[14] 22\n",
      "Epoch:30, w1:1.0208625383746999, w2:1.0163225990648346, bias:0.09972451826705236, loss:0.1733705541470887\n"
     ]
    }
   ],
   "source": [
    "w_mb, b_mb, cost_mb, cost_list_mb, epoch_list_mb = gradient_descent(X_train_scaled['age'],X_train_scaled['affordibility'],y_train,1000, 0.25,1)"
   ]
  },
  {
   "cell_type": "code",
   "execution_count": 88,
   "id": "1f0ebb59",
   "metadata": {},
   "outputs": [
    {
     "data": {
      "text/plain": [
       "[<matplotlib.lines.Line2D at 0x1e9b96e78b0>]"
      ]
     },
     "execution_count": 88,
     "metadata": {},
     "output_type": "execute_result"
    },
    {
     "data": {
      "image/png": "[encoded data removed]",
      "text/plain": [
       "<Figure size 432x288 with 1 Axes>"
      ]
     },
     "metadata": {
      "needs_background": "light"
     },
     "output_type": "display_data"
    }
   ],
   "source": [
    "plt.xlabel(\"epoch\")\n",
    "plt.ylabel(\"cost\")\n",
    "plt.plot(cost_list_mb, epoch_list_mb)"
   ]
  },
  {
   "cell_type": "code",
   "execution_count": null,
   "id": "a30346a1",
   "metadata": {},
   "outputs": [],
   "source": []
  }
 ],
 "metadata": {
  "kernelspec": {
   "display_name": "Python 3 (ipykernel)",
   "language": "python",
   "name": "python3"
  },
  "language_info": {
   "codemirror_mode": {
    "name": "ipython",
    "version": 3
   },
   "file_extension": ".py",
   "mimetype": "text/x-python",
   "name": "python",
   "nbconvert_exporter": "python",
   "pygments_lexer": "ipython3",
   "version": "3.9.12"
  }
 },
 "nbformat": 4,
 "nbformat_minor": 5
}
